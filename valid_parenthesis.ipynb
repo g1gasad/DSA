{
 "cells": [
  {
   "cell_type": "code",
   "execution_count": 11,
   "metadata": {},
   "outputs": [
    {
     "data": {
      "text/plain": [
       "True"
      ]
     },
     "execution_count": 11,
     "metadata": {},
     "output_type": "execute_result"
    }
   ],
   "source": [
    "def isValid(s):\n",
    "    stack = []\n",
    "    for c in s:\n",
    "        if c in \"({[\":\n",
    "            stack.append(c)\n",
    "        else:\n",
    "            if c==\")\" and (stack[-1]==\"(\" or stack[0]==\"(\") or \\\n",
    "                c==\"]\" and (stack[-1]==\"[\" or stack[0]==\"[\") or \\\n",
    "                c==\"}\" and (stack[-1]==\"{\" or stack[0]==\"{\"):\n",
    "                stack.pop()\n",
    "    \n",
    "    if not stack:\n",
    "        return True\n",
    "    return False\n",
    "            \n",
    "        \n",
    "        \n",
    "        \n",
    "isValid(\"\")"
   ]
  }
 ],
 "metadata": {
  "kernelspec": {
   "display_name": "Python 3",
   "language": "python",
   "name": "python3"
  },
  "language_info": {
   "codemirror_mode": {
    "name": "ipython",
    "version": 3
   },
   "file_extension": ".py",
   "mimetype": "text/x-python",
   "name": "python",
   "nbconvert_exporter": "python",
   "pygments_lexer": "ipython3",
   "version": "3.11.4"
  }
 },
 "nbformat": 4,
 "nbformat_minor": 2
}
