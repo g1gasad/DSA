{
 "cells": [
  {
   "cell_type": "code",
   "execution_count": 12,
   "metadata": {},
   "outputs": [],
   "source": [
    "nums = [1, 2, 3]\n",
    "curr = []\n",
    "res = []\n",
    "i = 0"
   ]
  },
  {
   "cell_type": "code",
   "execution_count": 31,
   "metadata": {},
   "outputs": [
    {
     "name": "stdout",
     "output_type": "stream",
     "text": [
      "[1]\n",
      "[1, 2]\n",
      "[1, 2, 3]\n",
      "[1, 3]\n",
      "[2]\n",
      "[2, 3]\n",
      "[3]\n"
     ]
    },
    {
     "data": {
      "text/plain": [
       "[[1, 2, 3], [1, 2], [1, 3], [1], [2, 3], [2], [3], []]"
      ]
     },
     "execution_count": 31,
     "metadata": {},
     "output_type": "execute_result"
    }
   ],
   "source": [
    "nums = [1, 2, 3]\n",
    "\n",
    "def subset_func(arr):\n",
    "    res = []\n",
    "    subset = []\n",
    "    def dfs(i):\n",
    "        if i == len(arr):\n",
    "            res.append(subset.copy())\n",
    "            return\n",
    "        \n",
    "        subset.append(arr[i])\n",
    "        print(subset)\n",
    "        dfs(i+1)\n",
    "        \n",
    "        subset.pop()    \n",
    "        dfs(i+1)\n",
    "    dfs(0)\n",
    "    return res\n",
    "    \n",
    "subset_func(nums)\n",
    "\n",
    "    "
   ]
  },
  {
   "cell_type": "code",
   "execution_count": 3,
   "metadata": {},
   "outputs": [
    {
     "data": {
      "text/plain": [
       "120"
      ]
     },
     "execution_count": 3,
     "metadata": {},
     "output_type": "execute_result"
    }
   ],
   "source": [
    "def recursive_fact(n):\n",
    "    if n == 1:\n",
    "        return n\n",
    "    else:\n",
    "        return n * recursive_fact(n-1)\n",
    "    \n",
    "recursive_fact(5)"
   ]
  }
 ],
 "metadata": {
  "kernelspec": {
   "display_name": "Python 3",
   "language": "python",
   "name": "python3"
  },
  "language_info": {
   "codemirror_mode": {
    "name": "ipython",
    "version": 3
   },
   "file_extension": ".py",
   "mimetype": "text/x-python",
   "name": "python",
   "nbconvert_exporter": "python",
   "pygments_lexer": "ipython3",
   "version": "3.11.4"
  }
 },
 "nbformat": 4,
 "nbformat_minor": 2
}
