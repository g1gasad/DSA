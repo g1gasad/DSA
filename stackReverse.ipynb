{
 "cells": [
  {
   "cell_type": "code",
   "execution_count": 9,
   "metadata": {},
   "outputs": [
    {
     "name": "stdout",
     "output_type": "stream",
     "text": [
      "Before: [10, 20, 30, 40]\n",
      "\n",
      "After: [40, 30, 20, 10]\n"
     ]
    }
   ],
   "source": [
    "def stackBottomValue(stack, value):\n",
    "    if len(stack) == 0:\n",
    "        stack.append(value)\n",
    "    else:\n",
    "        popped = stack.pop()\n",
    "        stackBottomValue(stack, value)\n",
    "        stack.append(popped)\n",
    "    \n",
    "    \n",
    "def reverseStack(stack):\n",
    "    if len(stack) == 0:\n",
    "        pass\n",
    "    else:\n",
    "        popped = stack.pop()\n",
    "        reverseStack(stack)\n",
    "        stackBottomValue(stack, popped)\n",
    "    \n",
    "    \n",
    "stack1 = []\n",
    "\n",
    "stack1.append(10)\n",
    "stack1.append(20)\n",
    "stack1.append(30)\n",
    "stack1.append(40)\n",
    "\n",
    "print(\"Before:\", stack1)\n",
    "\n",
    "# stackBottomValue(stack1)\n",
    "reverseStack(stack1)\n",
    "print(\"\\nAfter:\", stack1)"
   ]
  }
 ],
 "metadata": {
  "kernelspec": {
   "display_name": "Python 3",
   "language": "python",
   "name": "python3"
  },
  "language_info": {
   "codemirror_mode": {
    "name": "ipython",
    "version": 3
   },
   "file_extension": ".py",
   "mimetype": "text/x-python",
   "name": "python",
   "nbconvert_exporter": "python",
   "pygments_lexer": "ipython3",
   "version": "3.11.4"
  }
 },
 "nbformat": 4,
 "nbformat_minor": 2
}
