{
 "cells": [
  {
   "cell_type": "code",
   "execution_count": 3,
   "metadata": {},
   "outputs": [
    {
     "data": {
      "text/plain": [
       "0"
      ]
     },
     "execution_count": 3,
     "metadata": {},
     "output_type": "execute_result"
    }
   ],
   "source": [
    "prices = [2,4,1]\n",
    "\n",
    "def maxProfit(prices):\n",
    "    min_price = min(prices)\n",
    "    min_price_index = prices.index(min_price)\n",
    "    max_profit = 0\n",
    "    for i in range(min_price_index+1, len(prices)):\n",
    "        if min_price < prices[i]:\n",
    "            prf = prices[i] - min_price\n",
    "            if prf > max_profit:\n",
    "                max_profit = prf        \n",
    "    return max_profit\n",
    "\n",
    "maxProfit(prices)"
   ]
  }
 ],
 "metadata": {
  "kernelspec": {
   "display_name": "Python 3",
   "language": "python",
   "name": "python3"
  },
  "language_info": {
   "codemirror_mode": {
    "name": "ipython",
    "version": 3
   },
   "file_extension": ".py",
   "mimetype": "text/x-python",
   "name": "python",
   "nbconvert_exporter": "python",
   "pygments_lexer": "ipython3",
   "version": "3.11.4"
  }
 },
 "nbformat": 4,
 "nbformat_minor": 2
}
