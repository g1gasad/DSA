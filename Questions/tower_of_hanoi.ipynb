{
 "cells": [
  {
   "cell_type": "code",
   "execution_count": 8,
   "metadata": {},
   "outputs": [
    {
     "name": "stdout",
     "output_type": "stream",
     "text": [
      "Move disk 1 from rod S to rod D\n",
      "Move disk 2 from rod S to rod D\n",
      "Move disk 1 from rod H to rod D\n",
      "Move disk 3 from rod S to rod D\n",
      "Move disk 1 from rod H to rod D\n",
      "Move disk 2 from rod H to rod D\n",
      "Move disk 1 from rod S to rod D\n"
     ]
    }
   ],
   "source": [
    "def tower(n, source, helper, desti):\n",
    "    if n == 0:\n",
    "        return None\n",
    "    \n",
    "    tower(n-1, source, helper, desti)\n",
    "    print(\"Move disk\", n, \"from rod\", source, \"to rod\", desti)\n",
    "    tower(n-1, helper, source, desti)\n",
    "    \n",
    "tower(3, \"S\", \"H\", \"D\")"
   ]
  }
 ],
 "metadata": {
  "kernelspec": {
   "display_name": "Python 3",
   "language": "python",
   "name": "python3"
  },
  "language_info": {
   "codemirror_mode": {
    "name": "ipython",
    "version": 3
   },
   "file_extension": ".py",
   "mimetype": "text/x-python",
   "name": "python",
   "nbconvert_exporter": "python",
   "pygments_lexer": "ipython3",
   "version": "3.11.4"
  }
 },
 "nbformat": 4,
 "nbformat_minor": 2
}
