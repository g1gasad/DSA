{
 "cells": [
  {
   "cell_type": "code",
   "execution_count": null,
   "metadata": {},
   "outputs": [],
   "source": [
    "def maxProfit(prices):\n",
    "    min_price = min(prices)\n",
    "    min_price_index = prices.index(min_price)\n",
    "    profit_list = []\n",
    "    for i in range(min_price_index+1, len(prices):\n",
    "        if min_price < prices[i]:\n",
    "            prf = prices[i] - min_price\n",
    "            profit_list.append(prf)\n",
    "    return max(profit_list)"
   ]
  }
 ],
 "metadata": {
  "kernelspec": {
   "display_name": "Python 3",
   "language": "python",
   "name": "python3"
  },
  "language_info": {
   "name": "python",
   "version": "3.11.4"
  }
 },
 "nbformat": 4,
 "nbformat_minor": 2
}
