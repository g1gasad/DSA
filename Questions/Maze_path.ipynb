{
 "cells": [
  {
   "cell_type": "code",
   "execution_count": 4,
   "metadata": {},
   "outputs": [],
   "source": [
    "import numpy as np\n",
    "def convert_to_matrix(elements, m, n):\n",
    "    k = 0\n",
    "    mat = []\n",
    "    for i in range(m):\n",
    "        sub_arr = []\n",
    "        for j in range(n):\n",
    "            sub_arr.append(elements[k])\n",
    "            k += 1\n",
    "        mat.append(sub_arr)\n",
    "        \n",
    "    return np.array(mat)\n"
   ]
  },
  {
   "cell_type": "code",
   "execution_count": 22,
   "metadata": {},
   "outputs": [
    {
     "data": {
      "text/plain": [
       "array([['0', 'x', '0'],\n",
       "       ['0', '0', 'x'],\n",
       "       ['x', '0', 'x'],\n",
       "       ['x', '0', '0']], dtype='<U1')"
      ]
     },
     "execution_count": 22,
     "metadata": {},
     "output_type": "execute_result"
    }
   ],
   "source": [
    "maze_values = ['0', 'x', '0', '0', '0', 'x', 'x', '0', 'x', 'x', '0', '0']\n",
    "maze_matrix = convert_to_matrix(maze_values, 4, 3)\n",
    "maze_matrix"
   ]
  },
  {
   "cell_type": "code",
   "execution_count": 21,
   "metadata": {},
   "outputs": [
    {
     "name": "stderr",
     "output_type": "stream",
     "text": [
      "\n",
      "KeyboardInterrupt\n",
      "\n"
     ]
    }
   ],
   "source": [
    "def mazePath(maze, row, col, ans):\n",
    "    \n",
    "    ans = np.array([])\n",
    "    if row<0 or row>=len(maze) or col<0 or col>=len(maze[0]) or maze[row][col]=='x':\n",
    "        return\n",
    "    if row==len(maze)-1 and col==len(maze[0])-1:\n",
    "        ans[row][col] = 1\n",
    "        val = True\n",
    "        print(ans)\n",
    "\n",
    "    maze[row][col] = 'x'\n",
    "    ans[row][col] = 1\n",
    "    mazePath(maze, row-1, col)\n",
    "    mazePath(maze, row, col-1)\n",
    "    mazePath(maze, row+1, col)\n",
    "    mazePath(maze, row, col+1)\n",
    "    ans[row][col] = \"0\"\n",
    "    \n",
    "    \n",
    "mazePath(maze_matrix, 0, 0)\n",
    "    "
   ]
  },
  {
   "cell_type": "code",
   "execution_count": 23,
   "metadata": {},
   "outputs": [
    {
     "ename": "IndexError",
     "evalue": "list index out of range",
     "output_type": "error",
     "traceback": [
      "\u001b[1;31m---------------------------------------------------------------------------\u001b[0m",
      "\u001b[1;31mIndexError\u001b[0m                                Traceback (most recent call last)",
      "Cell \u001b[1;32mIn[23], line 1\u001b[0m\n\u001b[1;32m----> 1\u001b[0m \u001b[43m[\u001b[49m\u001b[38;5;241;43m1\u001b[39;49m\u001b[43m]\u001b[49m\u001b[43m[\u001b[49m\u001b[38;5;241;43m3\u001b[39;49m\u001b[43m]\u001b[49m\n",
      "\u001b[1;31mIndexError\u001b[0m: list index out of range"
     ]
    }
   ],
   "source": [
    "[1][3]"
   ]
  }
 ],
 "metadata": {
  "kernelspec": {
   "display_name": "Python 3",
   "language": "python",
   "name": "python3"
  },
  "language_info": {
   "codemirror_mode": {
    "name": "ipython",
    "version": 3
   },
   "file_extension": ".py",
   "mimetype": "text/x-python",
   "name": "python",
   "nbconvert_exporter": "python",
   "pygments_lexer": "ipython3",
   "version": "3.11.4"
  }
 },
 "nbformat": 4,
 "nbformat_minor": 2
}
