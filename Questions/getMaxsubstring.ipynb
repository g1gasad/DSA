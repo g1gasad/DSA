{
 "cells": [
  {
   "cell_type": "code",
   "execution_count": 24,
   "metadata": {},
   "outputs": [
    {
     "data": {
      "text/plain": [
       "23"
      ]
     },
     "execution_count": 24,
     "metadata": {},
     "output_type": "execute_result"
    }
   ],
   "source": [
    "arr = [-1, 4, -3, 10, 11, -5, 6]\n",
    "\n",
    "def max_sum(arr):\n",
    "    \"\"\"\n",
    "    Get max sum from array\n",
    "    \"\"\"\n",
    "    maxi = -2**32\n",
    "    sum = 0\n",
    "    for i in range(len(arr)):\n",
    "        sum = sum + arr[i]\n",
    "        maxi = max(maxi, sum)\n",
    "        \n",
    "        if sum < 0:\n",
    "            sum = 0\n",
    "    return sum\n",
    "\n",
    "max_sum(arr)"
   ]
  },
  {
   "cell_type": "code",
   "execution_count": 31,
   "metadata": {},
   "outputs": [
    {
     "data": {
      "text/plain": [
       "([1, 4], 'Sum: 22')"
      ]
     },
     "execution_count": 31,
     "metadata": {},
     "output_type": "execute_result"
    }
   ],
   "source": [
    "arr = [-1, 4, -3, 10, 11, -5]\n",
    "\n",
    "def substring_with_maxsum(arr):\n",
    "    arr_start = -1\n",
    "    arr_end = -1\n",
    "    maxi = -2**32\n",
    "    sum = 0\n",
    "    for i in range(len(arr)):\n",
    "        if sum == 0:\n",
    "            start = i\n",
    "        \n",
    "        sum = sum + arr[i]\n",
    "        if sum > maxi:\n",
    "            maxi = sum\n",
    "            arr_start = start\n",
    "            arr_end = i \n",
    "            \n",
    "        if sum < 0:\n",
    "            sum = 0\n",
    "            \n",
    "    return [arr_start, arr_end], f\"Sum: {maxi}\"\n",
    "\n",
    "substring_with_maxsum(arr)"
   ]
  }
 ],
 "metadata": {
  "kernelspec": {
   "display_name": "Python 3",
   "language": "python",
   "name": "python3"
  },
  "language_info": {
   "codemirror_mode": {
    "name": "ipython",
    "version": 3
   },
   "file_extension": ".py",
   "mimetype": "text/x-python",
   "name": "python",
   "nbconvert_exporter": "python",
   "pygments_lexer": "ipython3",
   "version": "3.11.4"
  }
 },
 "nbformat": 4,
 "nbformat_minor": 2
}
