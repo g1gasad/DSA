{
 "cells": [
  {
   "cell_type": "code",
   "execution_count": 9,
   "metadata": {},
   "outputs": [],
   "source": [
    "import array as arr\n",
    "import numpy as np"
   ]
  },
  {
   "cell_type": "code",
   "execution_count": 19,
   "metadata": {},
   "outputs": [
    {
     "data": {
      "text/plain": [
       "array([[2, 4, 2],\n",
       "       [6, 3, 7],\n",
       "       [1, 7, 4]])"
      ]
     },
     "execution_count": 19,
     "metadata": {},
     "output_type": "execute_result"
    }
   ],
   "source": [
    "import numpy as np\n",
    "ele = [2, 4, 2, 6, 3, 7, 1, 7, 4]\n",
    "# Lets make it 2 x 3\n",
    "m = 3\n",
    "n = 3\n",
    "def convert_to_matrix(elements, m, n):\n",
    "    k = 0\n",
    "    mat = []\n",
    "    for i in range(m):\n",
    "        sub_arr = []\n",
    "        for j in range(n):\n",
    "            sub_arr.append(ele[k])\n",
    "            k += 1\n",
    "        mat.append(sub_arr)\n",
    "        \n",
    "    return np.array(mat)\n",
    "\n",
    "convert_to_matrix(ele, m, n)"
   ]
  },
  {
   "cell_type": "code",
   "execution_count": null,
   "metadata": {},
   "outputs": [],
   "source": [
    "def maze_path():\n",
    "    "
   ]
  }
 ],
 "metadata": {
  "kernelspec": {
   "display_name": "Python 3",
   "language": "python",
   "name": "python3"
  },
  "language_info": {
   "codemirror_mode": {
    "name": "ipython",
    "version": 3
   },
   "file_extension": ".py",
   "mimetype": "text/x-python",
   "name": "python",
   "nbconvert_exporter": "python",
   "pygments_lexer": "ipython3",
   "version": "3.11.4"
  }
 },
 "nbformat": 4,
 "nbformat_minor": 2
}
