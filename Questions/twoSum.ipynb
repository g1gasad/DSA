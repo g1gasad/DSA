{
 "cells": [
  {
   "cell_type": "code",
   "execution_count": 10,
   "metadata": {},
   "outputs": [
    {
     "data": {
      "text/plain": [
       "'index1: 3 | index2: 5'"
      ]
     },
     "execution_count": 10,
     "metadata": {},
     "output_type": "execute_result"
    }
   ],
   "source": [
    "target = 4\n",
    "nums = [2, 4, 8, 1, 5, 3]\n",
    "\n",
    "def two_sum(nums, target):\n",
    "    for i in range(len(nums)):\n",
    "        d1 = nums[i]\n",
    "        d2 = target - d1\n",
    "        \n",
    "        for j in range(i+1, len(nums)):\n",
    "            if nums[j] == d2:\n",
    "                return f\"index1: {i} | index2: {j}\"\n",
    "    return False\n",
    "\n",
    "two_sum(nums, target)"
   ]
  },
  {
   "cell_type": "code",
   "execution_count": 1,
   "metadata": {},
   "outputs": [
    {
     "data": {
      "text/plain": [
       "0"
      ]
     },
     "execution_count": 1,
     "metadata": {},
     "output_type": "execute_result"
    }
   ],
   "source": [
    "target = 4\n",
    "nums = [2, 4, 8, 1, 5]\n",
    "\n",
    "def two_sum(target, nums):\n",
    "    sum = 0\n",
    "    i = 0\n",
    "    if i < target:\n",
    "        return i  \n",
    "    \n",
    "two_sum(43, nums)      "
   ]
  }
 ],
 "metadata": {
  "kernelspec": {
   "display_name": "Python 3",
   "language": "python",
   "name": "python3"
  },
  "language_info": {
   "codemirror_mode": {
    "name": "ipython",
    "version": 3
   },
   "file_extension": ".py",
   "mimetype": "text/x-python",
   "name": "python",
   "nbconvert_exporter": "python",
   "pygments_lexer": "ipython3",
   "version": "3.11.4"
  }
 },
 "nbformat": 4,
 "nbformat_minor": 2
}
