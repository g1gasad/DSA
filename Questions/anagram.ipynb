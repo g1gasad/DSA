{
 "cells": [
  {
   "cell_type": "code",
   "execution_count": 15,
   "metadata": {},
   "outputs": [
    {
     "data": {
      "text/plain": [
       "False"
      ]
     },
     "execution_count": 15,
     "metadata": {},
     "output_type": "execute_result"
    }
   ],
   "source": [
    "str1 = 'cat'\n",
    "str2 = 'tawt'\n",
    "\n",
    "def anagram_check(str1, str2):\n",
    "    for i in range(len(str1)):\n",
    "        l1 = str1[i]\n",
    "        if l1 not in str2:\n",
    "            return False\n",
    "        \n",
    "anagram_check(str1, str2)"
   ]
  },
  {
   "cell_type": "code",
   "execution_count": 26,
   "metadata": {},
   "outputs": [
    {
     "data": {
      "text/plain": [
       "False"
      ]
     },
     "execution_count": 26,
     "metadata": {},
     "output_type": "execute_result"
    }
   ],
   "source": [
    "str1 = 'cat'\n",
    "str2 = 'taac'\n",
    "def anagram_check(str1, str2):\n",
    "    arr1 = {}\n",
    "    arr2 = {}\n",
    "    for i in str1:\n",
    "        arr1[i] = str1.count(i)\n",
    "    for j in str2:\n",
    "        arr2[j] = str2.count(j)\n",
    "    \n",
    "    for k in arr1:\n",
    "        if arr1[k] != arr2[k]:\n",
    "            return False\n",
    "        \n",
    "    return True\n",
    "        \n",
    "anagram_check(str1, str2)"
   ]
  },
  {
   "cell_type": "code",
   "execution_count": 21,
   "metadata": {},
   "outputs": [
    {
     "data": {
      "text/plain": [
       "4"
      ]
     },
     "execution_count": 21,
     "metadata": {},
     "output_type": "execute_result"
    }
   ],
   "source": [
    "a = {'a': 4, \"b\": 3}\n",
    "a['a']"
   ]
  },
  {
   "cell_type": "code",
   "execution_count": 13,
   "metadata": {},
   "outputs": [
    {
     "data": {
      "text/plain": [
       "4"
      ]
     },
     "execution_count": 13,
     "metadata": {},
     "output_type": "execute_result"
    }
   ],
   "source": [
    "str1 = \"aafafa\"\n",
    "str1.count('a')"
   ]
  }
 ],
 "metadata": {
  "kernelspec": {
   "display_name": "Python 3",
   "language": "python",
   "name": "python3"
  },
  "language_info": {
   "codemirror_mode": {
    "name": "ipython",
    "version": 3
   },
   "file_extension": ".py",
   "mimetype": "text/x-python",
   "name": "python",
   "nbconvert_exporter": "python",
   "pygments_lexer": "ipython3",
   "version": "3.11.4"
  }
 },
 "nbformat": 4,
 "nbformat_minor": 2
}
