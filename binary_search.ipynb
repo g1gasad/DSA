{
 "cells": [
  {
   "cell_type": "code",
   "execution_count": 15,
   "metadata": {},
   "outputs": [],
   "source": [
    "arr = [35, 23, 20, 6, 40, 17, 1]\n",
    "target = 6\n"
   ]
  },
  {
   "cell_type": "code",
   "execution_count": 44,
   "metadata": {},
   "outputs": [
    {
     "ename": "KeyboardInterrupt",
     "evalue": "",
     "output_type": "error",
     "traceback": [
      "\u001b[1;31m---------------------------------------------------------------------------\u001b[0m",
      "\u001b[1;31mKeyboardInterrupt\u001b[0m                         Traceback (most recent call last)",
      "Cell \u001b[1;32mIn[44], line 22\u001b[0m\n\u001b[0;32m     17\u001b[0m             end \u001b[38;5;241m=\u001b[39m mid \u001b[38;5;241m-\u001b[39m \u001b[38;5;241m1\u001b[39m\n\u001b[0;32m     18\u001b[0m     \u001b[38;5;28;01mreturn\u001b[39;00m \u001b[38;5;241m-\u001b[39m\u001b[38;5;241m1\u001b[39m\n\u001b[1;32m---> 22\u001b[0m \u001b[43mbinary_search\u001b[49m\u001b[43m(\u001b[49m\u001b[43marr\u001b[49m\u001b[43m,\u001b[49m\u001b[43m \u001b[49m\u001b[43mtarget\u001b[49m\u001b[43m)\u001b[49m\n",
      "Cell \u001b[1;32mIn[44], line 9\u001b[0m, in \u001b[0;36mbinary_search\u001b[1;34m(arr, target)\u001b[0m\n\u001b[0;32m      6\u001b[0m end \u001b[38;5;241m=\u001b[39m \u001b[38;5;28mlen\u001b[39m(arr)\u001b[38;5;241m-\u001b[39m\u001b[38;5;241m1\u001b[39m\n\u001b[0;32m      7\u001b[0m mid \u001b[38;5;241m=\u001b[39m start \u001b[38;5;241m+\u001b[39m (end \u001b[38;5;241m-\u001b[39m start)\u001b[38;5;241m/\u001b[39m\u001b[38;5;241m/\u001b[39m\u001b[38;5;241m2\u001b[39m\n\u001b[1;32m----> 9\u001b[0m \u001b[38;5;28;01mwhile\u001b[39;00m start \u001b[38;5;241m<\u001b[39m\u001b[38;5;241m=\u001b[39m end:\n\u001b[0;32m     10\u001b[0m     \u001b[38;5;28;01mif\u001b[39;00m arr[mid] \u001b[38;5;241m==\u001b[39m target:\n\u001b[0;32m     11\u001b[0m         \u001b[38;5;28;01mreturn\u001b[39;00m mid\n",
      "\u001b[1;31mKeyboardInterrupt\u001b[0m: "
     ]
    }
   ],
   "source": [
    "arr = [1, 6, 17, 20, 23, 35, 40]\n",
    "target = 6\n",
    "\n",
    "def binary_search(arr, target):\n",
    "    start = 0\n",
    "    end = len(arr)-1\n",
    "    mid = start + (end - start)//2\n",
    "    \n",
    "    while start <= end:\n",
    "        if arr[mid] == target:\n",
    "            return mid\n",
    "        \n",
    "        elif target > arr[mid]:\n",
    "            start = mid + 1\n",
    "\n",
    "        elif target < arr[mid]:\n",
    "            end = mid - 1\n",
    "    return -1\n",
    "        \n",
    "        \n",
    "        \n",
    "binary_search(arr, target)"
   ]
  }
 ],
 "metadata": {
  "kernelspec": {
   "display_name": "Python 3",
   "language": "python",
   "name": "python3"
  },
  "language_info": {
   "codemirror_mode": {
    "name": "ipython",
    "version": 3
   },
   "file_extension": ".py",
   "mimetype": "text/x-python",
   "name": "python",
   "nbconvert_exporter": "python",
   "pygments_lexer": "ipython3",
   "version": "3.11.4"
  }
 },
 "nbformat": 4,
 "nbformat_minor": 2
}
