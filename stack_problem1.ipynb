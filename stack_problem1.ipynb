{
 "cells": [
  {
   "cell_type": "code",
   "execution_count": 41,
   "metadata": {},
   "outputs": [
    {
     "name": "stdout",
     "output_type": "stream",
     "text": [
      "Before: deque([10, 20, 30, 40])\n",
      "\n",
      "After: deque([1000, 10, 20, 30, 40])\n"
     ]
    }
   ],
   "source": [
    "from collections import deque\n",
    "\n",
    "def stackBottomValue(stack, value):\n",
    "    \n",
    "    if len(stack) == 0:\n",
    "        stack.append(value)\n",
    "    else:\n",
    "        val_in = stack.pop()\n",
    "        stackBottomValue(stack, value)\n",
    "        stack.append(val_in)\n",
    "    \n",
    "    \n",
    "val = 1000\n",
    "stack1 = deque()\n",
    "\n",
    "stack1.append(10)\n",
    "stack1.append(20)\n",
    "stack1.append(30)\n",
    "stack1.append(40)\n",
    "\n",
    "print(\"Before:\", stack1)\n",
    "\n",
    "stackBottomValue(stack1, 1000)\n",
    "print(\"\\nAfter:\", stack1)"
   ]
  },
  {
   "cell_type": "code",
   "execution_count": 36,
   "metadata": {},
   "outputs": [
    {
     "data": {
      "text/plain": [
       "deque([1000, 1000, 10, 20, 30, 40])"
      ]
     },
     "execution_count": 36,
     "metadata": {},
     "output_type": "execute_result"
    }
   ],
   "source": []
  },
  {
   "cell_type": "code",
   "execution_count": null,
   "metadata": {},
   "outputs": [],
   "source": []
  },
  {
   "cell_type": "code",
   "execution_count": null,
   "metadata": {},
   "outputs": [],
   "source": []
  }
 ],
 "metadata": {
  "kernelspec": {
   "display_name": "Python 3",
   "language": "python",
   "name": "python3"
  },
  "language_info": {
   "codemirror_mode": {
    "name": "ipython",
    "version": 3
   },
   "file_extension": ".py",
   "mimetype": "text/x-python",
   "name": "python",
   "nbconvert_exporter": "python",
   "pygments_lexer": "ipython3",
   "version": "3.11.4"
  }
 },
 "nbformat": 4,
 "nbformat_minor": 2
}
